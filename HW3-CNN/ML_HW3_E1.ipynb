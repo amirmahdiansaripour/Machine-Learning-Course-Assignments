{
 "cells": [
  {
   "cell_type": "markdown",
   "metadata": {},
   "source": [
    "# Machine Learning HW3 Simulation Part (1st exercise)\n",
    "## Amirmahdi Ansaripour (810198358)"
   ]
  },
  {
   "cell_type": "code",
   "execution_count": 4,
   "metadata": {
    "execution": {
     "iopub.execute_input": "2023-05-11T11:09:15.896856Z",
     "iopub.status.busy": "2023-05-11T11:09:15.896431Z",
     "iopub.status.idle": "2023-05-11T11:09:16.157541Z",
     "shell.execute_reply": "2023-05-11T11:09:16.156412Z",
     "shell.execute_reply.started": "2023-05-11T11:09:15.896823Z"
    }
   },
   "outputs": [],
   "source": [
    "# import tensorflow.keras as ts\n",
    "import pandas as pds\n",
    "# from tensorflow.keras import layers\n",
    "from sklearn.model_selection import train_test_split\n",
    "from sklearn.preprocessing import LabelEncoder\n",
    "from sklearn.metrics import confusion_matrix, classification_report\n",
    "import matplotlib.pyplot as plt\n",
    "import numpy as np\n",
    "import seaborn as sns\n",
    "\n",
    "lRate = 0.001\n",
    "test_ratio = 0.1\n",
    "batchsize = 40\n",
    "num_of_classes = 4\n",
    "\n",
    "datapath = './ECG.csv'\n",
    "df = pds.read_csv(datapath)"
   ]
  },
  {
   "cell_type": "code",
   "execution_count": 6,
   "metadata": {
    "execution": {
     "iopub.execute_input": "2023-05-11T11:09:17.203894Z",
     "iopub.status.busy": "2023-05-11T11:09:17.202962Z",
     "iopub.status.idle": "2023-05-11T11:09:17.210492Z",
     "shell.execute_reply": "2023-05-11T11:09:17.209327Z",
     "shell.execute_reply.started": "2023-05-11T11:09:17.203848Z"
    }
   },
   "outputs": [],
   "source": [
    "def divide_into_test_and_train(x, y, ratio):\n",
    "    x_train, x_test, y_train, y_test = train_test_split(x, y, stratify = LabelEncoder().fit_transform(y),\n",
    "                    test_size = ratio, random_state = 0)\n",
    "    return x_train, x_test, y_train, y_test\n",
    "\n",
    "def show_freqs(value, title):\n",
    "    df_temp = pds.DataFrame({'freq': value})\n",
    "    df_temp.groupby('freq').size().plot(kind='bar')\n",
    "    plt.xlabel('Classes')\n",
    "    plt.ylabel('Frequency')\n",
    "    plt.title(title)\n",
    "    plt.show()\n",
    "    return\n",
    "    "
   ]
  },
  {
   "cell_type": "code",
   "execution_count": 19,
   "metadata": {
    "execution": {
     "iopub.execute_input": "2023-05-11T11:09:18.195746Z",
     "iopub.status.busy": "2023-05-11T11:09:18.195361Z",
     "iopub.status.idle": "2023-05-11T11:09:18.203323Z",
     "shell.execute_reply": "2023-05-11T11:09:18.202125Z",
     "shell.execute_reply.started": "2023-05-11T11:09:18.195715Z"
    }
   },
   "outputs": [],
   "source": [
    "def convert_to_num(categories):\n",
    "    num = []\n",
    "    for i in range(len(categories)):\n",
    "        if categories.iloc[i] == 'A':\n",
    "            num.append(0)\n",
    "        elif categories.iloc[i] == 'N':\n",
    "            num.append(1)\n",
    "        elif categories.iloc[i] == 'O':\n",
    "            num.append(2)\n",
    "        else:\n",
    "            num.append(3)\n",
    "    return num\n",
    "    \n",
    "def oneHot(y_values):\n",
    "    numerics = convert_to_num(y_values)\n",
    "    array = np.array(numerics)\n",
    "    oneHotted = np.zeros((len(numerics), num_of_classes))\n",
    "    oneHotted[np.arange(array.size),array] = 1\n",
    "    print(oneHotted)\n",
    "#     print(labels.iloc[0])\n",
    "#     print(oneHotted[0])\n",
    "    return oneHotted"
   ]
  },
  {
   "cell_type": "code",
   "execution_count": 14,
   "metadata": {
    "execution": {
     "iopub.execute_input": "2023-05-11T11:09:18.851972Z",
     "iopub.status.busy": "2023-05-11T11:09:18.851601Z",
     "iopub.status.idle": "2023-05-11T11:09:18.861090Z",
     "shell.execute_reply": "2023-05-11T11:09:18.860063Z",
     "shell.execute_reply.started": "2023-05-11T11:09:18.851943Z"
    }
   },
   "outputs": [],
   "source": [
    "def standardize(dataset):\n",
    "    for col in dataset.columns:\n",
    "        dataset[col] = ((dataset[col] - dataset.mean()[col]) / dataset.var()[col])\n",
    "    return dataset\n",
    "\n",
    "def feedForward(firstLayerNuerons, secondLayerNuerons, thirdLayerNuerons, forthLayerNuerons, function):\n",
    "    inputLayer = ts.layers.Input(x_train.iloc[0].shape)\n",
    "    outputLayer = ts.layers.Flatten()(inputLayer)\n",
    "    \n",
    "    outputLayer = ts.layers.Dense(firstLayerNuerons, activation = function, kernel_regularizer = None)(inputLayer)\n",
    "    outputLayer = ts.layers.Dense(secondLayerNuerons, activation = function, kernel_regularizer = None)(outputLayer)\n",
    "    outputLayer = ts.layers.Dense(thirdLayerNuerons, activation = function, kernel_regularizer = None)(outputLayer)\n",
    "    outputLayer = ts.layers.Dense(forthLayerNuerons, activation = function, kernel_regularizer = None)(outputLayer)\n",
    "    \n",
    "    outputLayer = ts.layers.Dense(num_of_classes, activation = 'softmax', kernel_regularizer = None)(outputLayer)\n",
    "    NN = ts.Model(inputLayer, outputLayer)\n",
    "    return NN\n",
    "\n",
    "\n",
    "def analyze_model(model, train, test, Optimizer, loss_function, num_of_epochs):\n",
    "    model.compile(optimizer = Optimizer, loss = loss_function, metrics = ['accuracy'])\n",
    "    model.summary()\n",
    "    results = model.fit(train, one_hotted_y_train,\n",
    "                        batch_size = batchsize, validation_data = (test, one_hotted_y_test), epochs = num_of_epochs)"
   ]
  },
  {
   "cell_type": "code",
   "execution_count": 15,
   "metadata": {
    "execution": {
     "iopub.execute_input": "2023-05-11T11:09:19.469694Z",
     "iopub.status.busy": "2023-05-11T11:09:19.469276Z",
     "iopub.status.idle": "2023-05-11T11:09:19.478074Z",
     "shell.execute_reply": "2023-05-11T11:09:19.476670Z",
     "shell.execute_reply.started": "2023-05-11T11:09:19.469661Z"
    }
   },
   "outputs": [],
   "source": [
    "def plot_confusion_matrix(model, labels):\n",
    "    y_pred = model.predict(x_test)\n",
    "    y_correct = convert_to_num(y_test) # [0, 0, 1, 3, 2, 1] based on number of classes\n",
    "    y_pred_modified = []\n",
    "    for i in range(len(y_pred)):\n",
    "        pred_label = np.argmax(y_pred[i])\n",
    "        y_pred_modified.append(pred_label)\n",
    "    matrix = confusion_matrix(y_correct, y_pred_modified)\n",
    "    plt.figure(figsize = (num_of_classes, num_of_classes))\n",
    "    sns.heatmap(matrix, cmap=plt.cm.Blues, xticklabels = labels, yticklabels = labels, annot = True, fmt = 'd')\n",
    "    plt.xlabel('Predictions')\n",
    "    plt.ylabel('Actuals')\n",
    "    plt.show()\n",
    "    print(classification_report(y_correct, y_pred_modified))"
   ]
  },
  {
   "cell_type": "markdown",
   "metadata": {},
   "source": [
    "## Part A: (number of samples in each class)\n",
    "Each class's size is mentioned by using the value_counts() method"
   ]
  },
  {
   "cell_type": "code",
   "execution_count": 10,
   "metadata": {
    "execution": {
     "iopub.execute_input": "2023-05-11T11:09:20.175270Z",
     "iopub.status.busy": "2023-05-11T11:09:20.172288Z",
     "iopub.status.idle": "2023-05-11T11:09:20.187903Z",
     "shell.execute_reply": "2023-05-11T11:09:20.187114Z",
     "shell.execute_reply.started": "2023-05-11T11:09:20.175223Z"
    }
   },
   "outputs": [
    {
     "data": {
      "text/plain": [
       "N    5992\n",
       "O    3151\n",
       "A     923\n",
       "~     187\n",
       "Name: label, dtype: int64"
      ]
     },
     "execution_count": 10,
     "metadata": {},
     "output_type": "execute_result"
    }
   ],
   "source": [
    "num_of_classes = 4\n",
    "df = df.drop(df.columns[0], axis = 1)\n",
    "df['label'].value_counts()"
   ]
  },
  {
   "cell_type": "markdown",
   "metadata": {},
   "source": [
    "## Part B: (histogram of classes)\n",
    "The histogram of the four classes existing in the dataset is shown in the following section. The low population of noisy class, whose label is ~, causes predicting this class difficult. Because there are few samples of this class, the designed model cannot learn its features appropriately. On the other hand, due to the high frequency of class N, this label will be the dominant prediction when predicting the test set.\n",
    "\n",
    "As a result, the model does not predict test samples belonging to ~ class, and puts N labels on wrong samples repeatedly. "
   ]
  },
  {
   "cell_type": "code",
   "execution_count": 11,
   "metadata": {
    "execution": {
     "iopub.execute_input": "2023-05-11T11:09:21.707908Z",
     "iopub.status.busy": "2023-05-11T11:09:21.707502Z",
     "iopub.status.idle": "2023-05-11T11:09:21.733890Z",
     "shell.execute_reply": "2023-05-11T11:09:21.732782Z",
     "shell.execute_reply.started": "2023-05-11T11:09:21.707874Z"
    }
   },
   "outputs": [],
   "source": [
    "labels = df.iloc[:, 0]\n",
    "features = df.iloc[:, 1:]\n",
    "x_train, x_test, y_train, y_test = divide_into_test_and_train(features, labels, test_ratio)"
   ]
  },
  {
   "cell_type": "code",
   "execution_count": 12,
   "metadata": {
    "execution": {
     "iopub.execute_input": "2023-05-11T11:09:22.490727Z",
     "iopub.status.busy": "2023-05-11T11:09:22.489763Z",
     "iopub.status.idle": "2023-05-11T11:09:22.706873Z",
     "shell.execute_reply": "2023-05-11T11:09:22.705750Z",
     "shell.execute_reply.started": "2023-05-11T11:09:22.490686Z"
    }
   },
   "outputs": [
    {
     "data": {
      "image/png": "[encoded data removed]",
      "text/plain": [
       "<Figure size 640x480 with 1 Axes>"
      ]
     },
     "metadata": {},
     "output_type": "display_data"
    }
   ],
   "source": [
    "show_freqs(df['label'], 'Frequency of classes')"
   ]
  },
  {
   "cell_type": "code",
   "execution_count": 20,
   "metadata": {
    "execution": {
     "iopub.execute_input": "2023-05-11T11:09:27.208196Z",
     "iopub.status.busy": "2023-05-11T11:09:27.207793Z",
     "iopub.status.idle": "2023-05-11T11:09:27.394118Z",
     "shell.execute_reply": "2023-05-11T11:09:27.393103Z",
     "shell.execute_reply.started": "2023-05-11T11:09:27.208163Z"
    }
   },
   "outputs": [
    {
     "name": "stdout",
     "output_type": "stream",
     "text": [
      "[[0. 0. 1. 0.]\n",
      " [0. 1. 0. 0.]\n",
      " [0. 0. 1. 0.]\n",
      " ...\n",
      " [0. 1. 0. 0.]\n",
      " [0. 1. 0. 0.]\n",
      " [0. 1. 0. 0.]]\n",
      "[[0. 0. 1. 0.]\n",
      " [0. 0. 1. 0.]\n",
      " [0. 1. 0. 0.]\n",
      " ...\n",
      " [0. 1. 0. 0.]\n",
      " [0. 1. 0. 0.]\n",
      " [0. 1. 0. 0.]]\n"
     ]
    }
   ],
   "source": [
    "one_hotted_y_train = oneHot(y_train)\n",
    "one_hotted_y_test = oneHot(y_test)"
   ]
  },
  {
   "cell_type": "markdown",
   "metadata": {},
   "source": [
    "## Part C: (outputs when no preprocessing is done)\n",
    "In this part, the dataset is given to the nueral network without any preprocessing. The most significant problem of not applying normalization is that the attributes whose scales are greater than others will affect the weights' values more drastically.\n",
    "\n",
    "As a result, the model will be biassed towards those attributes and ignore other features, which may be as important, in its prediction.\n",
    "\n",
    "As explained before, the model performs better for class N than others, and performs poorly for class ~. The main reason is the high frequency of N samples and low frequency of ~ samples in the training set.\n"
   ]
  },
  {
   "cell_type": "code",
   "execution_count": 51,
   "metadata": {
    "execution": {
     "iopub.execute_input": "2023-05-11T11:09:28.345698Z",
     "iopub.status.busy": "2023-05-11T11:09:28.345302Z",
     "iopub.status.idle": "2023-05-11T11:10:51.844369Z",
     "shell.execute_reply": "2023-05-11T11:10:51.843199Z",
     "shell.execute_reply.started": "2023-05-11T11:09:28.345667Z"
    }
   },
   "outputs": [
    {
     "name": "stdout",
     "output_type": "stream",
     "text": [
      "Model: \"model_6\"\n",
      "_________________________________________________________________\n",
      " Layer (type)                Output Shape              Param #   \n",
      "=================================================================\n",
      " input_7 (InputLayer)        [(None, 169)]             0         \n",
      "                                                                 \n",
      " dense_30 (Dense)            (None, 100)               17000     \n",
      "                                                                 \n",
      " dense_31 (Dense)            (None, 64)                6464      \n",
      "                                                                 \n",
      " dense_32 (Dense)            (None, 128)               8320      \n",
      "                                                                 \n",
      " dense_33 (Dense)            (None, 64)                8256      \n",
      "                                                                 \n",
      " dense_34 (Dense)            (None, 4)                 260       \n",
      "                                                                 \n",
      "=================================================================\n",
      "Total params: 40,300\n",
      "Trainable params: 40,300\n",
      "Non-trainable params: 0\n",
      "_________________________________________________________________\n",
      "Epoch 1/80\n",
      "231/231 [==============================] - 2s 3ms/step - loss: 61.3468 - accuracy: 0.5729 - val_loss: 73.1071 - val_accuracy: 0.6267\n",
      "Epoch 2/80\n",
      "231/231 [==============================] - 1s 2ms/step - loss: 64.6419 - accuracy: 0.5668 - val_loss: 15.1925 - val_accuracy: 0.6433\n",
      "Epoch 3/80\n",
      "231/231 [==============================] - 1s 2ms/step - loss: 13.7162 - accuracy: 0.6352 - val_loss: 64.8897 - val_accuracy: 0.5994\n",
      "Epoch 4/80\n",
      "231/231 [==============================] - 1s 2ms/step - loss: 15.3889 - accuracy: 0.6295 - val_loss: 3.5592 - val_accuracy: 0.6218\n",
      "Epoch 5/80\n",
      "231/231 [==============================] - 1s 2ms/step - loss: 1.9104 - accuracy: 0.6551 - val_loss: 1.2255 - val_accuracy: 0.6715\n",
      "Epoch 6/80\n",
      "231/231 [==============================] - 1s 2ms/step - loss: 1.2373 - accuracy: 0.6594 - val_loss: 5.1217 - val_accuracy: 0.6540\n",
      "Epoch 7/80\n",
      "231/231 [==============================] - 1s 2ms/step - loss: 0.9038 - accuracy: 0.6650 - val_loss: 0.7422 - val_accuracy: 0.6930\n",
      "Epoch 8/80\n",
      "231/231 [==============================] - 1s 3ms/step - loss: 0.7458 - accuracy: 0.6887 - val_loss: 0.7347 - val_accuracy: 0.6823\n",
      "Epoch 9/80\n",
      "231/231 [==============================] - 1s 3ms/step - loss: 0.7421 - accuracy: 0.6906 - val_loss: 0.7290 - val_accuracy: 0.6881\n",
      "Epoch 10/80\n",
      "231/231 [==============================] - 1s 2ms/step - loss: 0.7353 - accuracy: 0.6930 - val_loss: 0.7221 - val_accuracy: 0.6940\n",
      "Epoch 11/80\n",
      "231/231 [==============================] - 1s 3ms/step - loss: 0.7289 - accuracy: 0.7001 - val_loss: 0.7118 - val_accuracy: 0.7027\n",
      "Epoch 12/80\n",
      "231/231 [==============================] - 1s 3ms/step - loss: 0.7122 - accuracy: 0.7038 - val_loss: 0.8497 - val_accuracy: 0.5984\n",
      "Epoch 13/80\n",
      "231/231 [==============================] - 1s 3ms/step - loss: 0.7196 - accuracy: 0.7095 - val_loss: 0.7070 - val_accuracy: 0.7086\n",
      "Epoch 14/80\n",
      "231/231 [==============================] - 1s 2ms/step - loss: 0.7101 - accuracy: 0.7163 - val_loss: 0.7219 - val_accuracy: 0.7047\n",
      "Epoch 15/80\n",
      "231/231 [==============================] - 1s 2ms/step - loss: 0.7035 - accuracy: 0.7195 - val_loss: 0.7861 - val_accuracy: 0.7027\n",
      "Epoch 16/80\n",
      "231/231 [==============================] - 1s 2ms/step - loss: 0.6918 - accuracy: 0.7279 - val_loss: 0.7003 - val_accuracy: 0.7154\n",
      "Epoch 17/80\n",
      "231/231 [==============================] - 1s 2ms/step - loss: 0.6952 - accuracy: 0.7241 - val_loss: 0.7073 - val_accuracy: 0.7232\n",
      "Epoch 18/80\n",
      "231/231 [==============================] - 1s 2ms/step - loss: 0.6909 - accuracy: 0.7279 - val_loss: 0.6960 - val_accuracy: 0.7203\n",
      "Epoch 19/80\n",
      "231/231 [==============================] - 1s 2ms/step - loss: 0.6826 - accuracy: 0.7266 - val_loss: 0.6858 - val_accuracy: 0.7232\n",
      "Epoch 20/80\n",
      "231/231 [==============================] - 1s 2ms/step - loss: 0.6780 - accuracy: 0.7280 - val_loss: 0.6637 - val_accuracy: 0.7378\n",
      "Epoch 21/80\n",
      "231/231 [==============================] - 1s 2ms/step - loss: 0.6717 - accuracy: 0.7317 - val_loss: 0.6762 - val_accuracy: 0.7407\n",
      "Epoch 22/80\n",
      "231/231 [==============================] - 1s 2ms/step - loss: 0.6844 - accuracy: 0.7308 - val_loss: 0.6894 - val_accuracy: 0.7271\n",
      "Epoch 23/80\n",
      "231/231 [==============================] - 1s 2ms/step - loss: 0.6780 - accuracy: 0.7258 - val_loss: 0.6758 - val_accuracy: 0.7290\n",
      "Epoch 24/80\n",
      "231/231 [==============================] - 1s 2ms/step - loss: 0.6662 - accuracy: 0.7332 - val_loss: 0.6830 - val_accuracy: 0.7232\n",
      "Epoch 25/80\n",
      "231/231 [==============================] - 1s 2ms/step - loss: 0.6750 - accuracy: 0.7311 - val_loss: 0.6837 - val_accuracy: 0.7193\n",
      "Epoch 26/80\n",
      "231/231 [==============================] - 1s 2ms/step - loss: 0.6681 - accuracy: 0.7307 - val_loss: 0.6581 - val_accuracy: 0.7446\n",
      "Epoch 27/80\n",
      "231/231 [==============================] - 1s 2ms/step - loss: 0.6586 - accuracy: 0.7397 - val_loss: 0.6616 - val_accuracy: 0.7456\n",
      "Epoch 28/80\n",
      "231/231 [==============================] - 1s 2ms/step - loss: 0.6584 - accuracy: 0.7377 - val_loss: 0.6997 - val_accuracy: 0.7242\n",
      "Epoch 29/80\n",
      "231/231 [==============================] - 1s 2ms/step - loss: 0.6598 - accuracy: 0.7407 - val_loss: 0.6556 - val_accuracy: 0.7407\n",
      "Epoch 30/80\n",
      "231/231 [==============================] - 1s 2ms/step - loss: 0.6542 - accuracy: 0.7435 - val_loss: 0.6527 - val_accuracy: 0.7456\n",
      "Epoch 31/80\n",
      "231/231 [==============================] - 1s 2ms/step - loss: 0.6634 - accuracy: 0.7368 - val_loss: 0.7123 - val_accuracy: 0.7018\n",
      "Epoch 32/80\n",
      "231/231 [==============================] - 1s 3ms/step - loss: 0.6500 - accuracy: 0.7423 - val_loss: 0.6386 - val_accuracy: 0.7495\n",
      "Epoch 33/80\n",
      "231/231 [==============================] - 1s 2ms/step - loss: 0.6609 - accuracy: 0.7370 - val_loss: 0.7248 - val_accuracy: 0.7096\n",
      "Epoch 34/80\n",
      "231/231 [==============================] - 1s 2ms/step - loss: 0.6450 - accuracy: 0.7451 - val_loss: 0.6592 - val_accuracy: 0.7388\n",
      "Epoch 35/80\n",
      "231/231 [==============================] - 1s 2ms/step - loss: 0.6523 - accuracy: 0.7452 - val_loss: 0.6721 - val_accuracy: 0.7476\n",
      "Epoch 36/80\n",
      "231/231 [==============================] - 1s 2ms/step - loss: 0.6578 - accuracy: 0.7396 - val_loss: 0.6547 - val_accuracy: 0.7437\n",
      "Epoch 37/80\n",
      "231/231 [==============================] - 1s 3ms/step - loss: 0.6607 - accuracy: 0.7431 - val_loss: 0.6530 - val_accuracy: 0.7524\n",
      "Epoch 38/80\n",
      "231/231 [==============================] - 1s 2ms/step - loss: 0.6426 - accuracy: 0.7483 - val_loss: 0.6410 - val_accuracy: 0.7495\n",
      "Epoch 39/80\n",
      "231/231 [==============================] - 1s 2ms/step - loss: 0.6426 - accuracy: 0.7439 - val_loss: 0.6661 - val_accuracy: 0.7359\n",
      "Epoch 40/80\n",
      "231/231 [==============================] - 1s 2ms/step - loss: 0.6412 - accuracy: 0.7461 - val_loss: 0.6402 - val_accuracy: 0.7417\n",
      "Epoch 41/80\n",
      "231/231 [==============================] - 1s 2ms/step - loss: 0.6448 - accuracy: 0.7490 - val_loss: 0.6382 - val_accuracy: 0.7495\n",
      "Epoch 42/80\n",
      "231/231 [==============================] - 1s 2ms/step - loss: 0.6348 - accuracy: 0.7509 - val_loss: 0.6299 - val_accuracy: 0.7573\n",
      "Epoch 43/80\n",
      "231/231 [==============================] - 1s 2ms/step - loss: 0.6294 - accuracy: 0.7540 - val_loss: 0.6301 - val_accuracy: 0.7544\n",
      "Epoch 44/80\n",
      "231/231 [==============================] - 1s 2ms/step - loss: 0.6491 - accuracy: 0.7488 - val_loss: 0.6788 - val_accuracy: 0.7378\n",
      "Epoch 45/80\n",
      "231/231 [==============================] - 1s 2ms/step - loss: 0.6514 - accuracy: 0.7492 - val_loss: 0.6910 - val_accuracy: 0.7446\n",
      "Epoch 46/80\n",
      "231/231 [==============================] - 1s 2ms/step - loss: 0.6283 - accuracy: 0.7551 - val_loss: 0.6740 - val_accuracy: 0.7466\n",
      "Epoch 47/80\n",
      "231/231 [==============================] - 1s 3ms/step - loss: 0.6455 - accuracy: 0.7524 - val_loss: 0.6401 - val_accuracy: 0.7563\n",
      "Epoch 48/80\n",
      "231/231 [==============================] - 1s 2ms/step - loss: 0.6299 - accuracy: 0.7551 - val_loss: 0.6680 - val_accuracy: 0.7290\n",
      "Epoch 49/80\n",
      "231/231 [==============================] - 1s 2ms/step - loss: 0.6257 - accuracy: 0.7562 - val_loss: 0.6561 - val_accuracy: 0.7563\n",
      "Epoch 50/80\n",
      "231/231 [==============================] - 1s 2ms/step - loss: 0.6391 - accuracy: 0.7491 - val_loss: 0.6564 - val_accuracy: 0.7407\n",
      "Epoch 51/80\n",
      "231/231 [==============================] - 1s 3ms/step - loss: 0.6270 - accuracy: 0.7566 - val_loss: 0.6661 - val_accuracy: 0.7407\n",
      "Epoch 52/80\n",
      "231/231 [==============================] - 1s 2ms/step - loss: 0.6198 - accuracy: 0.7558 - val_loss: 0.6962 - val_accuracy: 0.7368\n",
      "Epoch 53/80\n",
      "231/231 [==============================] - 1s 2ms/step - loss: 0.6275 - accuracy: 0.7572 - val_loss: 0.6740 - val_accuracy: 0.7290\n",
      "Epoch 54/80\n",
      "231/231 [==============================] - 1s 2ms/step - loss: 0.6462 - accuracy: 0.7457 - val_loss: 0.6328 - val_accuracy: 0.7680\n",
      "Epoch 55/80\n",
      "231/231 [==============================] - 1s 2ms/step - loss: 0.6156 - accuracy: 0.7624 - val_loss: 0.6512 - val_accuracy: 0.7563\n",
      "Epoch 56/80\n",
      "231/231 [==============================] - 1s 2ms/step - loss: 0.6893 - accuracy: 0.7495 - val_loss: 0.7126 - val_accuracy: 0.6940\n",
      "Epoch 57/80\n",
      "231/231 [==============================] - 1s 3ms/step - loss: 0.6685 - accuracy: 0.7334 - val_loss: 0.6416 - val_accuracy: 0.7495\n",
      "Epoch 58/80\n",
      "231/231 [==============================] - 1s 2ms/step - loss: 0.6306 - accuracy: 0.7580 - val_loss: 0.6643 - val_accuracy: 0.7388\n",
      "Epoch 59/80\n",
      "231/231 [==============================] - 1s 2ms/step - loss: 0.6167 - accuracy: 0.7590 - val_loss: 0.6236 - val_accuracy: 0.7622\n",
      "Epoch 60/80\n",
      "231/231 [==============================] - 1s 2ms/step - loss: 0.6200 - accuracy: 0.7575 - val_loss: 0.6510 - val_accuracy: 0.7515\n",
      "Epoch 61/80\n",
      "231/231 [==============================] - 1s 3ms/step - loss: 0.6148 - accuracy: 0.7614 - val_loss: 0.6343 - val_accuracy: 0.7612\n",
      "Epoch 62/80\n",
      "231/231 [==============================] - 1s 2ms/step - loss: 0.6343 - accuracy: 0.7482 - val_loss: 0.6104 - val_accuracy: 0.7690\n",
      "Epoch 63/80\n",
      "231/231 [==============================] - 1s 3ms/step - loss: 0.6216 - accuracy: 0.7570 - val_loss: 0.6183 - val_accuracy: 0.7612\n",
      "Epoch 64/80\n",
      "231/231 [==============================] - 1s 3ms/step - loss: 0.6061 - accuracy: 0.7648 - val_loss: 0.5906 - val_accuracy: 0.7846\n",
      "Epoch 65/80\n",
      "231/231 [==============================] - 1s 3ms/step - loss: 0.6074 - accuracy: 0.7645 - val_loss: 0.6440 - val_accuracy: 0.7417\n",
      "Epoch 66/80\n",
      "231/231 [==============================] - 1s 2ms/step - loss: 0.6260 - accuracy: 0.7575 - val_loss: 0.6078 - val_accuracy: 0.7573\n",
      "Epoch 67/80\n",
      "231/231 [==============================] - 1s 2ms/step - loss: 0.6091 - accuracy: 0.7642 - val_loss: 0.6400 - val_accuracy: 0.7680\n",
      "Epoch 68/80\n",
      "231/231 [==============================] - 1s 2ms/step - loss: 0.6067 - accuracy: 0.7663 - val_loss: 0.6551 - val_accuracy: 0.7466\n",
      "Epoch 69/80\n",
      "231/231 [==============================] - 1s 2ms/step - loss: 0.6397 - accuracy: 0.7474 - val_loss: 0.6410 - val_accuracy: 0.7641\n",
      "Epoch 70/80\n",
      "231/231 [==============================] - 1s 2ms/step - loss: 0.6070 - accuracy: 0.7648 - val_loss: 0.6184 - val_accuracy: 0.7749\n",
      "Epoch 71/80\n",
      "231/231 [==============================] - 1s 2ms/step - loss: 0.6076 - accuracy: 0.7637 - val_loss: 0.6003 - val_accuracy: 0.7768\n",
      "Epoch 72/80\n",
      "231/231 [==============================] - 1s 2ms/step - loss: 0.5938 - accuracy: 0.7682 - val_loss: 0.6140 - val_accuracy: 0.7739\n",
      "Epoch 73/80\n",
      "231/231 [==============================] - 1s 2ms/step - loss: 0.5919 - accuracy: 0.7715 - val_loss: 0.6584 - val_accuracy: 0.7290\n",
      "Epoch 74/80\n",
      "231/231 [==============================] - 1s 2ms/step - loss: 0.5893 - accuracy: 0.7721 - val_loss: 0.6074 - val_accuracy: 0.7690\n",
      "Epoch 75/80\n",
      "231/231 [==============================] - 1s 2ms/step - loss: 0.6146 - accuracy: 0.7618 - val_loss: 0.6716 - val_accuracy: 0.7349\n",
      "Epoch 76/80\n",
      "231/231 [==============================] - 1s 2ms/step - loss: 0.6139 - accuracy: 0.7667 - val_loss: 0.6734 - val_accuracy: 0.7534\n",
      "Epoch 77/80\n",
      "231/231 [==============================] - 1s 3ms/step - loss: 0.5965 - accuracy: 0.7675 - val_loss: 0.5920 - val_accuracy: 0.7680\n",
      "Epoch 78/80\n",
      "231/231 [==============================] - 1s 2ms/step - loss: 0.6040 - accuracy: 0.7642 - val_loss: 0.5915 - val_accuracy: 0.7671\n",
      "Epoch 79/80\n",
      "231/231 [==============================] - 1s 2ms/step - loss: 0.5841 - accuracy: 0.7754 - val_loss: 0.6273 - val_accuracy: 0.7573\n",
      "Epoch 80/80\n",
      "231/231 [==============================] - 1s 2ms/step - loss: 0.5951 - accuracy: 0.7706 - val_loss: 0.6151 - val_accuracy: 0.7622\n",
      "33/33 [==============================] - 0s 1ms/step\n"
     ]
    },
    {
     "data": {
      "image/png": "[encoded data removed]",
      "text/plain": [
       "<Figure size 400x400 with 2 Axes>"
      ]
     },
     "metadata": {},
     "output_type": "display_data"
    },
    {
     "name": "stdout",
     "output_type": "stream",
     "text": [
      "              precision    recall  f1-score   support\n",
      "\n",
      "           0       0.70      0.62      0.66        92\n",
      "           1       0.84      0.86      0.85       600\n",
      "           2       0.63      0.66      0.65       315\n",
      "           3       0.60      0.16      0.25        19\n",
      "\n",
      "    accuracy                           0.76      1026\n",
      "   macro avg       0.69      0.57      0.60      1026\n",
      "weighted avg       0.76      0.76      0.76      1026\n",
      "\n"
     ]
    }
   ],
   "source": [
    "NN = feedForward(firstLayerNuerons = 100, secondLayerNuerons = 64, thirdLayerNuerons = 128, forthLayerNuerons = 64, function = 'relu')\n",
    "analyze_model(model = NN, train = x_train, test = x_test, Optimizer = ts.optimizers.Adam(learning_rate = lRate), loss_function = 'categorical_crossentropy', num_of_epochs = 80)\n",
    "plot_confusion_matrix(NN, ['O', 'N', 'A', '~'])"
   ]
  },
  {
   "cell_type": "markdown",
   "metadata": {},
   "source": [
    "## Part D: (outputs when features are standardized)\n",
    "Based on the standardization formula:\n",
    "\n",
    "$\\vec{X} = \\frac{\\vec{X} - mean(\\vec{X})}{var(\\vec{X})} $\n",
    "\n",
    "We now make the scale of each feature relatively equal, causing the model to pay attention to all features. As it can be concluded in the confusion matrix and the classification report, the model's accuracy increases significantly. \n",
    "\n",
    "In addition, other detailed parameters related to each class increase too. For example, the accuracy of O and ~ classes increases drastically. This is because all features have equal shares in the model's prediction.\n",
    "\n"
   ]
  },
  {
   "cell_type": "code",
   "execution_count": 52,
   "metadata": {
    "execution": {
     "iopub.execute_input": "2023-05-11T11:10:51.847158Z",
     "iopub.status.busy": "2023-05-11T11:10:51.846456Z",
     "iopub.status.idle": "2023-05-11T11:11:49.187311Z",
     "shell.execute_reply": "2023-05-11T11:11:49.186136Z",
     "shell.execute_reply.started": "2023-05-11T11:10:51.847113Z"
    }
   },
   "outputs": [
    {
     "name": "stdout",
     "output_type": "stream",
     "text": [
      "Model: \"model_7\"\n",
      "_________________________________________________________________\n",
      " Layer (type)                Output Shape              Param #   \n",
      "=================================================================\n",
      " input_8 (InputLayer)        [(None, 169)]             0         \n",
      "                                                                 \n",
      " dense_35 (Dense)            (None, 100)               17000     \n",
      "                                                                 \n",
      " dense_36 (Dense)            (None, 64)                6464      \n",
      "                                                                 \n",
      " dense_37 (Dense)            (None, 128)               8320      \n",
      "                                                                 \n",
      " dense_38 (Dense)            (None, 64)                8256      \n",
      "                                                                 \n",
      " dense_39 (Dense)            (None, 4)                 260       \n",
      "                                                                 \n",
      "=================================================================\n",
      "Total params: 40,300\n",
      "Trainable params: 40,300\n",
      "Non-trainable params: 0\n",
      "_________________________________________________________________\n",
      "Epoch 1/80\n",
      "231/231 [==============================] - 2s 3ms/step - loss: 0.8478 - accuracy: 0.7221 - val_loss: 0.6779 - val_accuracy: 0.7632\n",
      "Epoch 2/80\n",
      "231/231 [==============================] - 1s 3ms/step - loss: 0.5801 - accuracy: 0.7854 - val_loss: 0.6198 - val_accuracy: 0.7827\n",
      "Epoch 3/80\n",
      "231/231 [==============================] - 1s 3ms/step - loss: 0.4892 - accuracy: 0.8120 - val_loss: 0.5916 - val_accuracy: 0.7865\n",
      "Epoch 4/80\n",
      "231/231 [==============================] - 1s 2ms/step - loss: 0.4538 - accuracy: 0.8216 - val_loss: 0.6044 - val_accuracy: 0.7953\n",
      "Epoch 5/80\n",
      "231/231 [==============================] - 1s 2ms/step - loss: 0.4357 - accuracy: 0.8336 - val_loss: 0.6001 - val_accuracy: 0.7827\n",
      "Epoch 6/80\n",
      "231/231 [==============================] - 1s 2ms/step - loss: 0.4011 - accuracy: 0.8412 - val_loss: 0.5849 - val_accuracy: 0.7953\n",
      "Epoch 7/80\n",
      "231/231 [==============================] - 1s 2ms/step - loss: 0.3724 - accuracy: 0.8603 - val_loss: 0.5517 - val_accuracy: 0.7973\n",
      "Epoch 8/80\n",
      "231/231 [==============================] - 1s 2ms/step - loss: 0.3450 - accuracy: 0.8692 - val_loss: 0.5225 - val_accuracy: 0.8060\n",
      "Epoch 9/80\n",
      "231/231 [==============================] - 1s 3ms/step - loss: 0.3406 - accuracy: 0.8699 - val_loss: 0.5692 - val_accuracy: 0.8099\n",
      "Epoch 10/80\n",
      "231/231 [==============================] - 1s 3ms/step - loss: 0.3023 - accuracy: 0.8853 - val_loss: 0.5596 - val_accuracy: 0.8021\n",
      "Epoch 11/80\n",
      "231/231 [==============================] - 1s 2ms/step - loss: 0.2879 - accuracy: 0.8869 - val_loss: 0.5629 - val_accuracy: 0.7973\n",
      "Epoch 12/80\n",
      "231/231 [==============================] - 1s 2ms/step - loss: 0.2636 - accuracy: 0.9018 - val_loss: 0.5825 - val_accuracy: 0.8002\n",
      "Epoch 13/80\n",
      "231/231 [==============================] - 1s 2ms/step - loss: 0.2454 - accuracy: 0.9055 - val_loss: 0.5829 - val_accuracy: 0.8060\n",
      "Epoch 14/80\n",
      "231/231 [==============================] - 1s 2ms/step - loss: 0.2361 - accuracy: 0.9071 - val_loss: 0.6067 - val_accuracy: 0.7904\n",
      "Epoch 15/80\n",
      "231/231 [==============================] - 1s 2ms/step - loss: 0.2387 - accuracy: 0.9089 - val_loss: 0.7088 - val_accuracy: 0.8012\n",
      "Epoch 16/80\n",
      "231/231 [==============================] - 1s 2ms/step - loss: 0.2216 - accuracy: 0.9162 - val_loss: 0.7102 - val_accuracy: 0.8031\n",
      "Epoch 17/80\n",
      "231/231 [==============================] - 1s 2ms/step - loss: 0.2043 - accuracy: 0.9223 - val_loss: 0.6784 - val_accuracy: 0.8197\n",
      "Epoch 18/80\n",
      "231/231 [==============================] - 1s 2ms/step - loss: 0.2029 - accuracy: 0.9251 - val_loss: 0.6379 - val_accuracy: 0.8207\n",
      "Epoch 19/80\n",
      "231/231 [==============================] - 1s 2ms/step - loss: 0.1860 - accuracy: 0.9302 - val_loss: 0.6091 - val_accuracy: 0.8138\n",
      "Epoch 20/80\n",
      "231/231 [==============================] - 1s 2ms/step - loss: 0.1594 - accuracy: 0.9382 - val_loss: 0.6341 - val_accuracy: 0.8197\n",
      "Epoch 21/80\n",
      "231/231 [==============================] - 1s 3ms/step - loss: 0.1704 - accuracy: 0.9357 - val_loss: 0.6709 - val_accuracy: 0.8197\n",
      "Epoch 22/80\n",
      "231/231 [==============================] - 1s 2ms/step - loss: 0.1763 - accuracy: 0.9384 - val_loss: 0.6448 - val_accuracy: 0.8099\n",
      "Epoch 23/80\n",
      "231/231 [==============================] - 1s 3ms/step - loss: 0.1601 - accuracy: 0.9407 - val_loss: 0.7507 - val_accuracy: 0.8109\n",
      "Epoch 24/80\n",
      "231/231 [==============================] - 1s 3ms/step - loss: 0.1333 - accuracy: 0.9503 - val_loss: 0.8730 - val_accuracy: 0.8138\n",
      "Epoch 25/80\n",
      "231/231 [==============================] - 1s 2ms/step - loss: 0.1205 - accuracy: 0.9535 - val_loss: 0.8759 - val_accuracy: 0.8158\n",
      "Epoch 26/80\n",
      "231/231 [==============================] - 1s 2ms/step - loss: 0.1451 - accuracy: 0.9443 - val_loss: 0.7797 - val_accuracy: 0.8197\n",
      "Epoch 27/80\n",
      "231/231 [==============================] - 1s 3ms/step - loss: 0.1081 - accuracy: 0.9613 - val_loss: 0.8336 - val_accuracy: 0.8255\n",
      "Epoch 28/80\n",
      "231/231 [==============================] - 1s 2ms/step - loss: 0.1127 - accuracy: 0.9577 - val_loss: 0.8044 - val_accuracy: 0.8246\n",
      "Epoch 29/80\n",
      "231/231 [==============================] - 1s 2ms/step - loss: 0.1294 - accuracy: 0.9532 - val_loss: 0.9855 - val_accuracy: 0.8265\n",
      "Epoch 30/80\n",
      "231/231 [==============================] - 1s 2ms/step - loss: 0.1147 - accuracy: 0.9585 - val_loss: 0.9395 - val_accuracy: 0.8187\n",
      "Epoch 31/80\n",
      "231/231 [==============================] - 1s 2ms/step - loss: 0.1211 - accuracy: 0.9579 - val_loss: 0.8113 - val_accuracy: 0.8187\n",
      "Epoch 32/80\n",
      "231/231 [==============================] - 1s 2ms/step - loss: 0.0993 - accuracy: 0.9619 - val_loss: 0.9092 - val_accuracy: 0.8109\n",
      "Epoch 33/80\n",
      "231/231 [==============================] - 1s 2ms/step - loss: 0.1225 - accuracy: 0.9571 - val_loss: 0.8219 - val_accuracy: 0.8236\n",
      "Epoch 34/80\n",
      "231/231 [==============================] - 1s 2ms/step - loss: 0.1241 - accuracy: 0.9575 - val_loss: 0.8895 - val_accuracy: 0.8324\n",
      "Epoch 35/80\n",
      "231/231 [==============================] - 1s 2ms/step - loss: 0.0842 - accuracy: 0.9705 - val_loss: 0.9115 - val_accuracy: 0.8285\n",
      "Epoch 36/80\n",
      "231/231 [==============================] - 1s 2ms/step - loss: 0.1060 - accuracy: 0.9648 - val_loss: 1.0341 - val_accuracy: 0.8177\n",
      "Epoch 37/80\n",
      "231/231 [==============================] - 1s 2ms/step - loss: 0.0722 - accuracy: 0.9737 - val_loss: 1.1810 - val_accuracy: 0.8255\n",
      "Epoch 38/80\n",
      "231/231 [==============================] - 1s 2ms/step - loss: 0.0735 - accuracy: 0.9723 - val_loss: 1.0820 - val_accuracy: 0.8353\n",
      "Epoch 39/80\n",
      "231/231 [==============================] - 1s 2ms/step - loss: 0.0713 - accuracy: 0.9769 - val_loss: 1.1559 - val_accuracy: 0.8285\n",
      "Epoch 40/80\n",
      "231/231 [==============================] - 1s 2ms/step - loss: 0.0786 - accuracy: 0.9706 - val_loss: 1.1384 - val_accuracy: 0.8187\n",
      "Epoch 41/80\n",
      "231/231 [==============================] - 1s 3ms/step - loss: 0.0840 - accuracy: 0.9695 - val_loss: 1.2260 - val_accuracy: 0.8265\n",
      "Epoch 42/80\n",
      "231/231 [==============================] - 1s 2ms/step - loss: 0.0788 - accuracy: 0.9711 - val_loss: 1.2402 - val_accuracy: 0.8090\n",
      "Epoch 43/80\n",
      "231/231 [==============================] - 1s 2ms/step - loss: 0.0745 - accuracy: 0.9736 - val_loss: 1.2619 - val_accuracy: 0.8226\n",
      "Epoch 44/80\n",
      "231/231 [==============================] - 1s 2ms/step - loss: 0.0774 - accuracy: 0.9719 - val_loss: 1.0125 - val_accuracy: 0.8333\n",
      "Epoch 45/80\n",
      "231/231 [==============================] - 1s 2ms/step - loss: 0.0798 - accuracy: 0.9716 - val_loss: 1.1343 - val_accuracy: 0.8294\n",
      "Epoch 46/80\n",
      "231/231 [==============================] - 1s 2ms/step - loss: 0.1007 - accuracy: 0.9615 - val_loss: 1.0104 - val_accuracy: 0.8236\n",
      "Epoch 47/80\n",
      "231/231 [==============================] - 1s 2ms/step - loss: 0.0562 - accuracy: 0.9803 - val_loss: 1.3134 - val_accuracy: 0.8314\n",
      "Epoch 48/80\n",
      "231/231 [==============================] - 1s 2ms/step - loss: 0.0562 - accuracy: 0.9802 - val_loss: 1.1545 - val_accuracy: 0.8353\n",
      "Epoch 49/80\n",
      "231/231 [==============================] - 1s 2ms/step - loss: 0.0541 - accuracy: 0.9816 - val_loss: 1.3709 - val_accuracy: 0.8294\n",
      "Epoch 50/80\n",
      "231/231 [==============================] - 1s 2ms/step - loss: 0.0834 - accuracy: 0.9681 - val_loss: 1.2708 - val_accuracy: 0.8392\n",
      "Epoch 51/80\n",
      "231/231 [==============================] - 1s 2ms/step - loss: 0.1064 - accuracy: 0.9622 - val_loss: 1.1940 - val_accuracy: 0.8265\n",
      "Epoch 52/80\n",
      "231/231 [==============================] - 1s 2ms/step - loss: 0.0609 - accuracy: 0.9779 - val_loss: 1.3001 - val_accuracy: 0.8314\n",
      "Epoch 53/80\n",
      "231/231 [==============================] - 1s 2ms/step - loss: 0.0594 - accuracy: 0.9794 - val_loss: 1.1456 - val_accuracy: 0.8314\n",
      "Epoch 54/80\n",
      "231/231 [==============================] - 1s 2ms/step - loss: 0.0663 - accuracy: 0.9768 - val_loss: 1.3685 - val_accuracy: 0.8168\n",
      "Epoch 55/80\n",
      "231/231 [==============================] - 1s 2ms/step - loss: 0.0785 - accuracy: 0.9744 - val_loss: 1.3570 - val_accuracy: 0.8051\n",
      "Epoch 56/80\n",
      "231/231 [==============================] - 1s 2ms/step - loss: 0.0623 - accuracy: 0.9786 - val_loss: 1.3521 - val_accuracy: 0.8392\n",
      "Epoch 57/80\n",
      "231/231 [==============================] - 1s 3ms/step - loss: 0.0479 - accuracy: 0.9809 - val_loss: 1.4012 - val_accuracy: 0.8255\n",
      "Epoch 58/80\n",
      "231/231 [==============================] - 1s 2ms/step - loss: 0.0602 - accuracy: 0.9808 - val_loss: 1.4216 - val_accuracy: 0.8304\n",
      "Epoch 59/80\n",
      "231/231 [==============================] - 1s 2ms/step - loss: 0.0697 - accuracy: 0.9755 - val_loss: 1.4015 - val_accuracy: 0.8177\n",
      "Epoch 60/80\n",
      "231/231 [==============================] - 1s 3ms/step - loss: 0.0667 - accuracy: 0.9779 - val_loss: 1.2856 - val_accuracy: 0.8168\n",
      "Epoch 61/80\n",
      "231/231 [==============================] - 1s 2ms/step - loss: 0.0409 - accuracy: 0.9870 - val_loss: 1.2374 - val_accuracy: 0.8226\n",
      "Epoch 62/80\n",
      "231/231 [==============================] - 1s 2ms/step - loss: 0.0300 - accuracy: 0.9876 - val_loss: 1.5329 - val_accuracy: 0.8168\n",
      "Epoch 63/80\n",
      "231/231 [==============================] - 1s 2ms/step - loss: 0.0583 - accuracy: 0.9777 - val_loss: 1.5477 - val_accuracy: 0.8236\n",
      "Epoch 64/80\n",
      "231/231 [==============================] - 1s 3ms/step - loss: 0.1258 - accuracy: 0.9623 - val_loss: 1.2336 - val_accuracy: 0.8099\n",
      "Epoch 65/80\n",
      "231/231 [==============================] - 1s 3ms/step - loss: 0.0740 - accuracy: 0.9763 - val_loss: 1.2845 - val_accuracy: 0.8216\n",
      "Epoch 66/80\n",
      "231/231 [==============================] - 1s 2ms/step - loss: 0.0487 - accuracy: 0.9847 - val_loss: 1.3141 - val_accuracy: 0.8382\n",
      "Epoch 67/80\n",
      "231/231 [==============================] - 1s 2ms/step - loss: 0.0611 - accuracy: 0.9798 - val_loss: 1.2748 - val_accuracy: 0.8363\n",
      "Epoch 68/80\n",
      "231/231 [==============================] - 1s 2ms/step - loss: 0.0514 - accuracy: 0.9828 - val_loss: 1.1547 - val_accuracy: 0.8265\n",
      "Epoch 69/80\n",
      "231/231 [==============================] - 1s 2ms/step - loss: 0.0499 - accuracy: 0.9842 - val_loss: 1.2351 - val_accuracy: 0.8314\n",
      "Epoch 70/80\n",
      "231/231 [==============================] - 1s 2ms/step - loss: 0.0425 - accuracy: 0.9861 - val_loss: 1.1928 - val_accuracy: 0.8353\n",
      "Epoch 71/80\n",
      "231/231 [==============================] - 1s 2ms/step - loss: 0.0597 - accuracy: 0.9813 - val_loss: 1.4117 - val_accuracy: 0.8343\n",
      "Epoch 72/80\n",
      "231/231 [==============================] - 1s 2ms/step - loss: 0.0789 - accuracy: 0.9764 - val_loss: 1.2330 - val_accuracy: 0.8265\n",
      "Epoch 73/80\n",
      "231/231 [==============================] - 1s 2ms/step - loss: 0.0587 - accuracy: 0.9800 - val_loss: 1.3271 - val_accuracy: 0.8285\n",
      "Epoch 74/80\n",
      "231/231 [==============================] - 1s 2ms/step - loss: 0.0345 - accuracy: 0.9871 - val_loss: 1.3368 - val_accuracy: 0.8353\n",
      "Epoch 75/80\n",
      "231/231 [==============================] - 1s 2ms/step - loss: 0.0405 - accuracy: 0.9873 - val_loss: 1.4347 - val_accuracy: 0.8421\n",
      "Epoch 76/80\n",
      "231/231 [==============================] - 1s 2ms/step - loss: 0.0590 - accuracy: 0.9801 - val_loss: 1.3372 - val_accuracy: 0.8333\n",
      "Epoch 77/80\n",
      "231/231 [==============================] - 1s 3ms/step - loss: 0.0577 - accuracy: 0.9820 - val_loss: 1.3907 - val_accuracy: 0.8148\n",
      "Epoch 78/80\n",
      "231/231 [==============================] - 1s 2ms/step - loss: 0.0339 - accuracy: 0.9884 - val_loss: 1.4314 - val_accuracy: 0.8324\n",
      "Epoch 79/80\n",
      "231/231 [==============================] - 1s 2ms/step - loss: 0.0332 - accuracy: 0.9876 - val_loss: 1.5694 - val_accuracy: 0.8314\n",
      "Epoch 80/80\n",
      "231/231 [==============================] - 1s 2ms/step - loss: 0.0348 - accuracy: 0.9879 - val_loss: 1.5172 - val_accuracy: 0.8363\n",
      "33/33 [==============================] - 0s 1ms/step\n"
     ]
    },
    {
     "data": {
      "image/png": "[encoded data removed]",
      "text/plain": [
       "<Figure size 400x400 with 2 Axes>"
      ]
     },
     "metadata": {},
     "output_type": "display_data"
    },
    {
     "name": "stdout",
     "output_type": "stream",
     "text": [
      "              precision    recall  f1-score   support\n",
      "\n",
      "           0       0.74      0.80      0.77        92\n",
      "           1       0.87      0.93      0.90       600\n",
      "           2       0.82      0.68      0.74       315\n",
      "           3       0.56      0.47      0.51        19\n",
      "\n",
      "    accuracy                           0.84      1026\n",
      "   macro avg       0.75      0.72      0.73      1026\n",
      "weighted avg       0.83      0.84      0.83      1026\n",
      "\n"
     ]
    }
   ],
   "source": [
    "standardized_x_train = standardize(x_train)\n",
    "standardized_x_test = standardize(x_test)\n",
    "NN = feedForward(firstLayerNuerons = 100, secondLayerNuerons = 64, thirdLayerNuerons = 128, forthLayerNuerons = 64, function = 'relu')\n",
    "analyze_model(model = NN, train = standardized_x_train, test = standardized_x_test, Optimizer = ts.optimizers.Adam(learning_rate = lRate), loss_function = 'categorical_crossentropy', num_of_epochs = 80)\n",
    "plot_confusion_matrix(NN, ['O', 'N', 'A', '~'])"
   ]
  },
  {
   "cell_type": "markdown",
   "metadata": {},
   "source": [
    "## Part E: (outputs when the noisy class is removed, and two less popluted classes are merged)\n",
    "In this part, the noisy class (labeled ~) is omitted. Also, classes O and A are merged into one class representing abnormal samples. Therefore, the task converts into a binary classification. \n",
    "\n",
    "Moreover, since there are adequate samples in each class, the network will learn the patterns and details distinguishing A and N. As a result, the accuracy of model on test samples will increase."
   ]
  },
  {
   "cell_type": "code",
   "execution_count": 53,
   "metadata": {
    "execution": {
     "iopub.execute_input": "2023-05-11T11:13:30.468606Z",
     "iopub.status.busy": "2023-05-11T11:13:30.468163Z",
     "iopub.status.idle": "2023-05-11T11:13:30.498901Z",
     "shell.execute_reply": "2023-05-11T11:13:30.498071Z",
     "shell.execute_reply.started": "2023-05-11T11:13:30.468572Z"
    }
   },
   "outputs": [
    {
     "data": {
      "text/plain": [
       "N    5992\n",
       "A    4074\n",
       "Name: label, dtype: int64"
      ]
     },
     "execution_count": 53,
     "metadata": {},
     "output_type": "execute_result"
    }
   ],
   "source": [
    "num_of_classes = 2\n",
    "df = df[df['label'] != '~']\n",
    "df['label'] = df['label'].replace(to_replace='O', value='A', regex=True)\n",
    "df['label'].value_counts()"
   ]
  },
  {
   "cell_type": "markdown",
   "metadata": {},
   "source": [
    "Now we only have two labels, Normal and Abnormal samples."
   ]
  },
  {
   "cell_type": "code",
   "execution_count": 54,
   "metadata": {
    "execution": {
     "iopub.execute_input": "2023-05-11T11:13:32.165148Z",
     "iopub.status.busy": "2023-05-11T11:13:32.164193Z",
     "iopub.status.idle": "2023-05-11T11:13:32.189668Z",
     "shell.execute_reply": "2023-05-11T11:13:32.188450Z",
     "shell.execute_reply.started": "2023-05-11T11:13:32.165105Z"
    }
   },
   "outputs": [],
   "source": [
    "labels = df.iloc[:, 0]\n",
    "features = df.iloc[:, 1:]\n",
    "x_train, x_test, y_train, y_test = divide_into_test_and_train(features, labels, test_ratio)"
   ]
  },
  {
   "cell_type": "code",
   "execution_count": 55,
   "metadata": {
    "execution": {
     "iopub.execute_input": "2023-05-11T11:13:33.353359Z",
     "iopub.status.busy": "2023-05-11T11:13:33.352985Z",
     "iopub.status.idle": "2023-05-11T11:13:42.928510Z",
     "shell.execute_reply": "2023-05-11T11:13:42.927633Z",
     "shell.execute_reply.started": "2023-05-11T11:13:33.353331Z"
    }
   },
   "outputs": [],
   "source": [
    "one_hotted_y_train = oneHot(y_train)\n",
    "one_hotted_y_test = oneHot(y_test)\n",
    "x_train = standardize(x_train)\n",
    "x_test = standardize(x_test)"
   ]
  },
  {
   "cell_type": "code",
   "execution_count": 56,
   "metadata": {
    "execution": {
     "iopub.execute_input": "2023-05-11T11:13:48.813314Z",
     "iopub.status.busy": "2023-05-11T11:13:48.812424Z",
     "iopub.status.idle": "2023-05-11T11:13:49.022158Z",
     "shell.execute_reply": "2023-05-11T11:13:49.021185Z",
     "shell.execute_reply.started": "2023-05-11T11:13:48.813273Z"
    }
   },
   "outputs": [
    {
     "data": {
      "image/png": "[encoded data removed]",
      "text/plain": [
       "<Figure size 640x480 with 1 Axes>"
      ]
     },
     "metadata": {},
     "output_type": "display_data"
    }
   ],
   "source": [
    "show_freqs(df['label'], 'Frequency of classes')"
   ]
  },
  {
   "cell_type": "code",
   "execution_count": 57,
   "metadata": {
    "execution": {
     "iopub.execute_input": "2023-05-11T11:13:55.324417Z",
     "iopub.status.busy": "2023-05-11T11:13:55.323996Z",
     "iopub.status.idle": "2023-05-11T11:14:41.942277Z",
     "shell.execute_reply": "2023-05-11T11:14:41.941505Z",
     "shell.execute_reply.started": "2023-05-11T11:13:55.324384Z"
    }
   },
   "outputs": [
    {
     "name": "stdout",
     "output_type": "stream",
     "text": [
      "Model: \"model_8\"\n",
      "_________________________________________________________________\n",
      " Layer (type)                Output Shape              Param #   \n",
      "=================================================================\n",
      " input_9 (InputLayer)        [(None, 169)]             0         \n",
      "                                                                 \n",
      " dense_40 (Dense)            (None, 100)               17000     \n",
      "                                                                 \n",
      " dense_41 (Dense)            (None, 64)                6464      \n",
      "                                                                 \n",
      " dense_42 (Dense)            (None, 128)               8320      \n",
      "                                                                 \n",
      " dense_43 (Dense)            (None, 64)                8256      \n",
      "                                                                 \n",
      " dense_44 (Dense)            (None, 2)                 130       \n",
      "                                                                 \n",
      "=================================================================\n",
      "Total params: 40,170\n",
      "Trainable params: 40,170\n",
      "Non-trainable params: 0\n",
      "_________________________________________________________________\n",
      "Epoch 1/80\n",
      "227/227 [==============================] - 2s 3ms/step - loss: 0.6123 - accuracy: 0.7785 - val_loss: 0.5867 - val_accuracy: 0.7805\n",
      "Epoch 2/80\n",
      "227/227 [==============================] - 1s 2ms/step - loss: 0.4159 - accuracy: 0.8278 - val_loss: 0.4838 - val_accuracy: 0.8103\n",
      "Epoch 3/80\n",
      "227/227 [==============================] - 1s 2ms/step - loss: 0.3632 - accuracy: 0.8499 - val_loss: 0.3977 - val_accuracy: 0.8381\n",
      "Epoch 4/80\n",
      "227/227 [==============================] - 1s 2ms/step - loss: 0.3462 - accuracy: 0.8589 - val_loss: 0.4007 - val_accuracy: 0.8342\n",
      "Epoch 5/80\n",
      "227/227 [==============================] - 1s 2ms/step - loss: 0.3130 - accuracy: 0.8699 - val_loss: 0.4405 - val_accuracy: 0.8361\n",
      "Epoch 6/80\n",
      "227/227 [==============================] - 1s 2ms/step - loss: 0.2960 - accuracy: 0.8800 - val_loss: 0.4015 - val_accuracy: 0.8361\n",
      "Epoch 7/80\n",
      "227/227 [==============================] - 1s 3ms/step - loss: 0.2820 - accuracy: 0.8846 - val_loss: 0.4858 - val_accuracy: 0.8163\n",
      "Epoch 8/80\n",
      "227/227 [==============================] - 1s 2ms/step - loss: 0.2538 - accuracy: 0.8978 - val_loss: 0.3947 - val_accuracy: 0.8530\n",
      "Epoch 9/80\n",
      "227/227 [==============================] - 1s 2ms/step - loss: 0.2537 - accuracy: 0.8989 - val_loss: 0.4249 - val_accuracy: 0.8421\n",
      "Epoch 10/80\n",
      "227/227 [==============================] - 1s 2ms/step - loss: 0.2366 - accuracy: 0.9044 - val_loss: 0.4326 - val_accuracy: 0.8381\n",
      "Epoch 11/80\n",
      "227/227 [==============================] - 1s 2ms/step - loss: 0.2158 - accuracy: 0.9153 - val_loss: 0.4542 - val_accuracy: 0.8361\n",
      "Epoch 12/80\n",
      "227/227 [==============================] - 1s 2ms/step - loss: 0.1999 - accuracy: 0.9225 - val_loss: 0.4103 - val_accuracy: 0.8520\n",
      "Epoch 13/80\n",
      "227/227 [==============================] - 1s 2ms/step - loss: 0.1805 - accuracy: 0.9288 - val_loss: 0.4109 - val_accuracy: 0.8620\n",
      "Epoch 14/80\n",
      "227/227 [==============================] - 1s 3ms/step - loss: 0.1741 - accuracy: 0.9321 - val_loss: 0.4269 - val_accuracy: 0.8590\n",
      "Epoch 15/80\n",
      "227/227 [==============================] - 1s 2ms/step - loss: 0.1615 - accuracy: 0.9351 - val_loss: 0.4724 - val_accuracy: 0.8620\n",
      "Epoch 16/80\n",
      "227/227 [==============================] - 1s 2ms/step - loss: 0.1503 - accuracy: 0.9407 - val_loss: 0.4687 - val_accuracy: 0.8570\n",
      "Epoch 17/80\n",
      "227/227 [==============================] - 1s 2ms/step - loss: 0.1582 - accuracy: 0.9407 - val_loss: 0.4621 - val_accuracy: 0.8590\n",
      "Epoch 18/80\n",
      "227/227 [==============================] - 1s 3ms/step - loss: 0.1491 - accuracy: 0.9411 - val_loss: 0.5381 - val_accuracy: 0.8481\n",
      "Epoch 19/80\n",
      "227/227 [==============================] - 1s 3ms/step - loss: 0.1332 - accuracy: 0.9528 - val_loss: 0.5546 - val_accuracy: 0.8500\n",
      "Epoch 20/80\n",
      "227/227 [==============================] - 1s 2ms/step - loss: 0.1213 - accuracy: 0.9540 - val_loss: 0.5634 - val_accuracy: 0.8550\n",
      "Epoch 21/80\n",
      "227/227 [==============================] - 1s 2ms/step - loss: 0.1065 - accuracy: 0.9603 - val_loss: 0.6224 - val_accuracy: 0.8580\n",
      "Epoch 22/80\n",
      "227/227 [==============================] - 1s 2ms/step - loss: 0.1133 - accuracy: 0.9574 - val_loss: 0.6272 - val_accuracy: 0.8580\n",
      "Epoch 23/80\n",
      "227/227 [==============================] - 1s 2ms/step - loss: 0.1077 - accuracy: 0.9587 - val_loss: 0.6442 - val_accuracy: 0.8600\n",
      "Epoch 24/80\n",
      "227/227 [==============================] - 1s 2ms/step - loss: 0.1267 - accuracy: 0.9541 - val_loss: 0.6008 - val_accuracy: 0.8491\n",
      "Epoch 25/80\n",
      "227/227 [==============================] - 1s 2ms/step - loss: 0.1162 - accuracy: 0.9546 - val_loss: 0.6127 - val_accuracy: 0.8401\n",
      "Epoch 26/80\n",
      "227/227 [==============================] - 1s 2ms/step - loss: 0.0850 - accuracy: 0.9670 - val_loss: 0.7030 - val_accuracy: 0.8540\n",
      "Epoch 27/80\n",
      "227/227 [==============================] - 1s 2ms/step - loss: 0.0888 - accuracy: 0.9668 - val_loss: 0.6269 - val_accuracy: 0.8600\n",
      "Epoch 28/80\n",
      "227/227 [==============================] - 1s 2ms/step - loss: 0.1120 - accuracy: 0.9579 - val_loss: 0.6161 - val_accuracy: 0.8590\n",
      "Epoch 29/80\n",
      "227/227 [==============================] - 1s 3ms/step - loss: 0.0971 - accuracy: 0.9628 - val_loss: 0.6338 - val_accuracy: 0.8630\n",
      "Epoch 30/80\n",
      "227/227 [==============================] - 1s 2ms/step - loss: 0.0854 - accuracy: 0.9670 - val_loss: 0.6566 - val_accuracy: 0.8620\n",
      "Epoch 31/80\n",
      "227/227 [==============================] - 1s 2ms/step - loss: 0.0778 - accuracy: 0.9709 - val_loss: 0.7913 - val_accuracy: 0.8630\n",
      "Epoch 32/80\n",
      "227/227 [==============================] - 1s 2ms/step - loss: 0.0749 - accuracy: 0.9722 - val_loss: 0.7082 - val_accuracy: 0.8649\n",
      "Epoch 33/80\n",
      "227/227 [==============================] - 1s 2ms/step - loss: 0.0670 - accuracy: 0.9757 - val_loss: 0.6639 - val_accuracy: 0.8749\n",
      "Epoch 34/80\n",
      "227/227 [==============================] - 1s 3ms/step - loss: 0.0669 - accuracy: 0.9751 - val_loss: 0.7687 - val_accuracy: 0.8560\n",
      "Epoch 35/80\n",
      "227/227 [==============================] - 1s 3ms/step - loss: 0.0694 - accuracy: 0.9752 - val_loss: 0.6433 - val_accuracy: 0.8451\n",
      "Epoch 36/80\n",
      "227/227 [==============================] - 1s 2ms/step - loss: 0.0697 - accuracy: 0.9742 - val_loss: 0.7618 - val_accuracy: 0.8560\n",
      "Epoch 37/80\n",
      "227/227 [==============================] - 1s 2ms/step - loss: 0.0782 - accuracy: 0.9693 - val_loss: 0.8302 - val_accuracy: 0.8520\n",
      "Epoch 38/80\n",
      "227/227 [==============================] - 1s 2ms/step - loss: 0.0657 - accuracy: 0.9751 - val_loss: 0.8151 - val_accuracy: 0.8679\n",
      "Epoch 39/80\n",
      "227/227 [==============================] - 1s 2ms/step - loss: 0.0721 - accuracy: 0.9714 - val_loss: 0.7824 - val_accuracy: 0.8620\n",
      "Epoch 40/80\n",
      "227/227 [==============================] - 1s 2ms/step - loss: 0.0792 - accuracy: 0.9677 - val_loss: 0.7217 - val_accuracy: 0.8640\n",
      "Epoch 41/80\n",
      "227/227 [==============================] - 1s 3ms/step - loss: 0.0604 - accuracy: 0.9778 - val_loss: 0.7756 - val_accuracy: 0.8640\n",
      "Epoch 42/80\n",
      "227/227 [==============================] - 1s 2ms/step - loss: 0.0784 - accuracy: 0.9723 - val_loss: 0.8226 - val_accuracy: 0.8640\n",
      "Epoch 43/80\n",
      "227/227 [==============================] - 1s 2ms/step - loss: 0.0670 - accuracy: 0.9746 - val_loss: 0.7426 - val_accuracy: 0.8659\n",
      "Epoch 44/80\n",
      "227/227 [==============================] - 1s 2ms/step - loss: 0.0593 - accuracy: 0.9781 - val_loss: 0.8662 - val_accuracy: 0.8570\n",
      "Epoch 45/80\n",
      "227/227 [==============================] - 1s 2ms/step - loss: 0.0634 - accuracy: 0.9758 - val_loss: 0.7781 - val_accuracy: 0.8640\n",
      "Epoch 46/80\n",
      "227/227 [==============================] - 1s 3ms/step - loss: 0.0460 - accuracy: 0.9820 - val_loss: 0.8218 - val_accuracy: 0.8788\n",
      "Epoch 47/80\n",
      "227/227 [==============================] - 1s 2ms/step - loss: 0.0531 - accuracy: 0.9806 - val_loss: 0.8915 - val_accuracy: 0.8600\n",
      "Epoch 48/80\n",
      "227/227 [==============================] - 1s 2ms/step - loss: 0.0651 - accuracy: 0.9757 - val_loss: 0.7820 - val_accuracy: 0.8640\n",
      "Epoch 49/80\n",
      "227/227 [==============================] - 1s 2ms/step - loss: 0.0441 - accuracy: 0.9851 - val_loss: 0.9641 - val_accuracy: 0.8640\n",
      "Epoch 50/80\n",
      "227/227 [==============================] - 1s 2ms/step - loss: 0.0589 - accuracy: 0.9787 - val_loss: 0.8454 - val_accuracy: 0.8550\n",
      "Epoch 51/80\n",
      "227/227 [==============================] - 1s 2ms/step - loss: 0.0569 - accuracy: 0.9790 - val_loss: 0.7626 - val_accuracy: 0.8699\n",
      "Epoch 52/80\n",
      "227/227 [==============================] - 1s 2ms/step - loss: 0.1002 - accuracy: 0.9670 - val_loss: 0.6717 - val_accuracy: 0.8560\n",
      "Epoch 53/80\n",
      "227/227 [==============================] - 1s 2ms/step - loss: 0.0656 - accuracy: 0.9767 - val_loss: 0.8303 - val_accuracy: 0.8610\n",
      "Epoch 54/80\n",
      "227/227 [==============================] - 1s 3ms/step - loss: 0.0350 - accuracy: 0.9877 - val_loss: 0.9180 - val_accuracy: 0.8649\n",
      "Epoch 55/80\n",
      "227/227 [==============================] - 1s 2ms/step - loss: 0.0321 - accuracy: 0.9886 - val_loss: 0.9558 - val_accuracy: 0.8620\n",
      "Epoch 56/80\n",
      "227/227 [==============================] - 1s 2ms/step - loss: 0.0275 - accuracy: 0.9906 - val_loss: 0.9532 - val_accuracy: 0.8610\n",
      "Epoch 57/80\n",
      "227/227 [==============================] - 1s 2ms/step - loss: 0.0625 - accuracy: 0.9784 - val_loss: 0.7871 - val_accuracy: 0.8640\n",
      "Epoch 58/80\n",
      "227/227 [==============================] - 1s 2ms/step - loss: 0.0490 - accuracy: 0.9818 - val_loss: 0.9284 - val_accuracy: 0.8600\n",
      "Epoch 59/80\n",
      "227/227 [==============================] - 1s 2ms/step - loss: 0.0446 - accuracy: 0.9822 - val_loss: 0.9483 - val_accuracy: 0.8699\n",
      "Epoch 60/80\n",
      "227/227 [==============================] - 1s 2ms/step - loss: 0.0553 - accuracy: 0.9800 - val_loss: 0.9792 - val_accuracy: 0.8669\n",
      "Epoch 61/80\n",
      "227/227 [==============================] - 1s 3ms/step - loss: 0.0531 - accuracy: 0.9818 - val_loss: 0.9099 - val_accuracy: 0.8610\n",
      "Epoch 62/80\n",
      "227/227 [==============================] - 1s 2ms/step - loss: 0.0303 - accuracy: 0.9895 - val_loss: 1.0951 - val_accuracy: 0.8669\n",
      "Epoch 63/80\n",
      "227/227 [==============================] - 1s 3ms/step - loss: 0.0507 - accuracy: 0.9824 - val_loss: 0.9949 - val_accuracy: 0.8620\n",
      "Epoch 64/80\n",
      "227/227 [==============================] - 1s 2ms/step - loss: 0.0534 - accuracy: 0.9808 - val_loss: 1.0660 - val_accuracy: 0.8610\n",
      "Epoch 65/80\n",
      "227/227 [==============================] - 1s 3ms/step - loss: 0.0391 - accuracy: 0.9849 - val_loss: 1.0121 - val_accuracy: 0.8620\n",
      "Epoch 66/80\n",
      "227/227 [==============================] - 1s 3ms/step - loss: 0.0307 - accuracy: 0.9890 - val_loss: 1.0049 - val_accuracy: 0.8659\n",
      "Epoch 67/80\n",
      "227/227 [==============================] - 1s 2ms/step - loss: 0.0333 - accuracy: 0.9879 - val_loss: 0.9509 - val_accuracy: 0.8600\n",
      "Epoch 68/80\n",
      "227/227 [==============================] - 1s 2ms/step - loss: 0.0484 - accuracy: 0.9832 - val_loss: 0.8372 - val_accuracy: 0.8659\n",
      "Epoch 69/80\n",
      "227/227 [==============================] - 1s 2ms/step - loss: 0.0442 - accuracy: 0.9838 - val_loss: 1.1916 - val_accuracy: 0.8471\n",
      "Epoch 70/80\n",
      "227/227 [==============================] - 1s 2ms/step - loss: 0.0339 - accuracy: 0.9876 - val_loss: 0.9237 - val_accuracy: 0.8600\n",
      "Epoch 71/80\n",
      "227/227 [==============================] - 1s 2ms/step - loss: 0.0339 - accuracy: 0.9874 - val_loss: 1.1374 - val_accuracy: 0.8600\n",
      "Epoch 72/80\n",
      "227/227 [==============================] - 1s 2ms/step - loss: 0.0484 - accuracy: 0.9826 - val_loss: 0.9391 - val_accuracy: 0.8659\n",
      "Epoch 73/80\n",
      "227/227 [==============================] - 1s 2ms/step - loss: 0.0599 - accuracy: 0.9798 - val_loss: 0.9305 - val_accuracy: 0.8719\n",
      "Epoch 74/80\n",
      "227/227 [==============================] - 1s 2ms/step - loss: 0.0379 - accuracy: 0.9872 - val_loss: 1.0892 - val_accuracy: 0.8580\n",
      "Epoch 75/80\n",
      "227/227 [==============================] - 1s 3ms/step - loss: 0.0220 - accuracy: 0.9925 - val_loss: 1.1443 - val_accuracy: 0.8630\n",
      "Epoch 76/80\n",
      "227/227 [==============================] - 1s 2ms/step - loss: 0.0362 - accuracy: 0.9896 - val_loss: 0.8957 - val_accuracy: 0.8580\n",
      "Epoch 77/80\n",
      "227/227 [==============================] - 1s 2ms/step - loss: 0.0267 - accuracy: 0.9914 - val_loss: 1.1207 - val_accuracy: 0.8649\n",
      "Epoch 78/80\n",
      "227/227 [==============================] - 1s 2ms/step - loss: 0.0443 - accuracy: 0.9836 - val_loss: 0.9905 - val_accuracy: 0.8669\n",
      "Epoch 79/80\n",
      "227/227 [==============================] - 1s 2ms/step - loss: 0.0483 - accuracy: 0.9840 - val_loss: 0.8355 - val_accuracy: 0.8560\n",
      "Epoch 80/80\n",
      "227/227 [==============================] - 1s 2ms/step - loss: 0.0426 - accuracy: 0.9856 - val_loss: 0.8851 - val_accuracy: 0.8590\n",
      "32/32 [==============================] - 0s 1ms/step\n"
     ]
    },
    {
     "data": {
      "image/png": "[encoded data removed]",
      "text/plain": [
       "<Figure size 200x200 with 2 Axes>"
      ]
     },
     "metadata": {},
     "output_type": "display_data"
    },
    {
     "name": "stdout",
     "output_type": "stream",
     "text": [
      "              precision    recall  f1-score   support\n",
      "\n",
      "           0       0.83      0.83      0.83       408\n",
      "           1       0.88      0.88      0.88       599\n",
      "\n",
      "    accuracy                           0.86      1007\n",
      "   macro avg       0.85      0.85      0.85      1007\n",
      "weighted avg       0.86      0.86      0.86      1007\n",
      "\n"
     ]
    }
   ],
   "source": [
    "NN = feedForward(firstLayerNuerons = 100, secondLayerNuerons = 64, thirdLayerNuerons = 128, forthLayerNuerons = 64, function = 'relu')\n",
    "analyze_model(model = NN, train = x_train, test = x_test, Optimizer = ts.optimizers.Adam(learning_rate = lRate), loss_function = 'categorical_crossentropy', num_of_epochs = 80)\n",
    "plot_confusion_matrix(NN, ['A', 'N'])"
   ]
  },
  {
   "cell_type": "code",
   "execution_count": null,
   "metadata": {},
   "outputs": [],
   "source": []
  }
 ],
 "metadata": {
  "kernelspec": {
   "display_name": "Python 3 (ipykernel)",
   "language": "python",
   "name": "python3"
  },
  "language_info": {
   "codemirror_mode": {
    "name": "ipython",
    "version": 3
   },
   "file_extension": ".py",
   "mimetype": "text/x-python",
   "name": "python",
   "nbconvert_exporter": "python",
   "pygments_lexer": "ipython3",
   "version": "3.9.13"
  }
 },
 "nbformat": 4,
 "nbformat_minor": 4
}
